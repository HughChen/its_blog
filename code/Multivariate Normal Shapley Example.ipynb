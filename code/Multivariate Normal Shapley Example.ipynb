{
 "cells": [
  {
   "cell_type": "markdown",
   "metadata": {},
   "source": [
    "<img style=\"width:700px\" src=\"conditional_normal.png\">\n",
    "\n",
    "<img style=\"width:300px\" src=\"unconscious_statistician.png\">"
   ]
  },
  {
   "cell_type": "code",
   "execution_count": 63,
   "metadata": {},
   "outputs": [],
   "source": [
    "import numpy as np\n",
    "from numpy.linalg import inv\n",
    "beta = np.array([1,2,3,0])\n",
    "mu   = np.array([0,0,0,0])\n",
    "cov  = np.array([[1.000, 0.000, 0.000, 0.000],\n",
    "                 [0.000, 1.000, 0.000, 0.000],\n",
    "                 [0.000, 0.000, 1.000, 0.999],\n",
    "                 [0.000, 0.000, 0.999, 1.000]])\n",
    "m = 4; feats = np.arange(4)\n",
    "def f(X): return(np.matmul(X,beta))"
   ]
  },
  {
   "cell_type": "code",
   "execution_count": 64,
   "metadata": {},
   "outputs": [
    {
     "name": "stdout",
     "output_type": "stream",
     "text": [
      "Mean\n",
      "[9.26360563e-05 3.95252692e-03 1.64010442e-03 1.48407546e-03]\n",
      "Covariance\n",
      "[[ 9.93760799e-01 -1.56462579e-03 -2.78458112e-04 -2.54005414e-04]\n",
      " [-1.56462579e-03  9.95928693e-01  1.10053916e-03  1.01190965e-03]\n",
      " [-2.78458112e-04  1.10053916e-03  1.00258570e+00  1.00159144e+00]\n",
      " [-2.54005414e-04  1.01190965e-03  1.00159144e+00  1.00260871e+00]]\n"
     ]
    }
   ],
   "source": [
    "from numpy.random import multivariate_normal as mvn\n",
    "n = 100000\n",
    "X = mvn(mu,cov,n)\n",
    "print(\"Mean\")\n",
    "print(X.mean(0))\n",
    "print(\"Covariance\")\n",
    "print((np.transpose(X) @ X)/(n+1))"
   ]
  },
  {
   "cell_type": "markdown",
   "metadata": {},
   "source": [
    "### CES (Conditional Expectation Shapley Values) and IS (Interventional Shapley Values)\n",
    "\n",
    "The following is only valid for a linear model currently\n",
    "This is because the $f(E[X|S])=E[f(X)|S]$ only for linear models"
   ]
  },
  {
   "cell_type": "code",
   "execution_count": 18,
   "metadata": {},
   "outputs": [],
   "source": [
    "from itertools import chain, combinations\n",
    "from math import factorial as fact\n",
    "\n",
    "def CES(x, DEBUG=False):\n",
    "    \"\"\" Conditional Expectations Shapley\n",
    "\n",
    "    Assuming the function is a linear model.\n",
    "    \n",
    "    Assuming a known covariance from a multivariate normal distribution.\n",
    "    \"\"\"\n",
    "\n",
    "    def cond_dist(x2, x):\n",
    "        # Return the mean and covariance of the \n",
    "        # conditional distribution: x1 | x2 = a\n",
    "        # Assuming X is multivariate normal\n",
    "        a   = x[x2]\n",
    "        x1  = np.setdiff1d(feats, x2)\n",
    "        mu1 = mu[x1]; mu2 = mu[x2]\n",
    "        cov11 = cov[x1,:][:,x1]; cov12 = cov[x1,:][:,x2]\n",
    "        cov21 = cov[x2,:][:,x1]; cov22 = cov[x2,:][:,x2]\n",
    "        mu_new  = mu1 + cov12 @ inv(cov22) @ (a - mu2)\n",
    "        cov_new = cov11 - cov12 @ inv(cov22) @ cov21\n",
    "        return(mu_new, cov_new)\n",
    "\n",
    "    def powerset(iterable):\n",
    "        s = list(iterable)\n",
    "        return chain.from_iterable(combinations(s, r) for r in range(len(s)+1))\n",
    "\n",
    "    # Calculate the attributions by going over all sets\n",
    "    W_sum = 0\n",
    "    phi = np.zeros(4)\n",
    "    for S in powerset(np.arange(4)):\n",
    "        if DEBUG: print(S)\n",
    "\n",
    "        # Create a hybrid sample \n",
    "        x_hybrid = np.copy(x)\n",
    "        mu_new,_ = cond_dist(list(S), x)\n",
    "        x_hybrid[np.setdiff1d(feats, list(S))] = mu_new\n",
    "\n",
    "        # Get the weighting terms\n",
    "        if len(S) != m: W_neg = fact(len(S))*fact(m-len(S)-1)/fact(m)\n",
    "        if len(S) != 0: W_pos = fact(len(S)-1)*fact(m-(len(S)-1)-1)/fact(m)\n",
    "\n",
    "        # Add the appropriate weights for each phi\n",
    "        for i in feats:\n",
    "            if i in S:\n",
    "                phi[i] += W_pos * f(x_hybrid)\n",
    "            else:\n",
    "                phi[i] -= W_neg * f(x_hybrid)\n",
    "    return(phi)\n",
    "\n",
    "def IS(x, DEBUG=False):\n",
    "    \"\"\"\n",
    "    Interventional Conditional Expectations Shapley\n",
    "    \n",
    "    Assuming the function is a linear model.\n",
    "    \"\"\"\n",
    "\n",
    "    phi = beta * (x - mu)\n",
    "    return(phi)"
   ]
  },
  {
   "cell_type": "code",
   "execution_count": 9,
   "metadata": {},
   "outputs": [
    {
     "name": "stdout",
     "output_type": "stream",
     "text": [
      "Conditional Expectation Explanations [1.     2.     1.5015 1.4985]\n",
      "Interventional Explanations          [1. 2. 3. 0.]\n"
     ]
    }
   ],
   "source": [
    "x = np.array([1.0,1.0,1.0,1.0])\n",
    "print(\"Conditional Expectation Explanations\", CES(x))\n",
    "print(\"Interventional Explanations         \", IS(x))"
   ]
  },
  {
   "cell_type": "code",
   "execution_count": 22,
   "metadata": {},
   "outputs": [
    {
     "data": {
      "text/plain": [
       "array([0.   , 0.   , 0.999])"
      ]
     },
     "execution_count": 22,
     "metadata": {},
     "output_type": "execute_result"
    }
   ],
   "source": [
    "def cond_dist(x2, x):\n",
    "    # Return the mean and covariance of the \n",
    "    # conditional distribution: x1 | x2 = a\n",
    "    # Assuming X is multivariate normal\n",
    "    a   = x[x2]\n",
    "    x1  = np.setdiff1d(feats, x2)\n",
    "    mu1 = mu[x1]; mu2 = mu[x2]\n",
    "    cov11 = cov[x1,:][:,x1]; cov12 = cov[x1,:][:,x2]\n",
    "    cov21 = cov[x2,:][:,x1]; cov22 = cov[x2,:][:,x2]\n",
    "    mu_new  = mu1 + cov12 @ inv(cov22) @ (a - mu2)\n",
    "    cov_new = cov11 - cov12 @ inv(cov22) @ cov21\n",
    "    return(mu_new, cov_new)\n",
    "\n",
    "cond_dist([2], x)[0]"
   ]
  }
 ],
 "metadata": {
  "kernelspec": {
   "display_name": "Python (py36)",
   "language": "python",
   "name": "py36"
  },
  "language_info": {
   "codemirror_mode": {
    "name": "ipython",
    "version": 3
   },
   "file_extension": ".py",
   "mimetype": "text/x-python",
   "name": "python",
   "nbconvert_exporter": "python",
   "pygments_lexer": "ipython3",
   "version": "3.6.9"
  }
 },
 "nbformat": 4,
 "nbformat_minor": 4
}
